{
 "cells": [
  {
   "cell_type": "code",
   "execution_count": null,
   "metadata": {},
   "outputs": [],
   "source": [
    "import requests\n",
    "base_url=\"tele_API\"\n",
    "parameters={\n",
    "    \"offset\": \"updated_id\",\n",
    "    \"limit\": \"1\"\n",
    "}\n",
    "\n",
    "resp=requests.get(base_url, data=parameters)\n",
    "print(resp.json())"
   ]
  },
  {
   "cell_type": "markdown",
   "metadata": {},
   "source": [
    "Now send mesaages"
   ]
  },
  {
   "cell_type": "code",
   "execution_count": 6,
   "metadata": {},
   "outputs": [
    {
     "name": "stdout",
     "output_type": "stream",
     "text": [
      "Hi\n"
     ]
    }
   ],
   "source": [
    "print(resp.json()[\"result\"][0]['message']['text'])"
   ]
  },
  {
   "cell_type": "code",
   "execution_count": null,
   "metadata": {},
   "outputs": [],
   "source": [
    "import requests\n",
    "import time\n",
    "base_url=\"tele_API\"\n",
    "jokes=[[\"Why coudn't the pony sing a lullaby?\",\"She was a little horse.🏇\"],[\"What 8 afraid of 7 ?\",\"Because 7 8 9 💀\"]]\n",
    "\n",
    "\n",
    "for joke in jokes:\n",
    "    parameters={\n",
    "        \"chat_id\":\"chat_id\",\n",
    "        \"text\":joke[0]\n",
    "    }\n",
    "\n",
    "    resp=requests.get(base_url, data=parameters)\n",
    "    print(resp.text)\n",
    "    time.sleep(2)\n",
    "    parameters={\n",
    "        \"chat_id\":\"chat_id\",\n",
    "        \"text\":joke[1]\n",
    "    }\n",
    "\n",
    "    resp=requests.get(base_url, data=parameters)\n",
    "    print(resp.text)\n",
    "    time.sleep(5)"
   ]
  },
  {
   "cell_type": "code",
   "execution_count": 10,
   "metadata": {},
   "outputs": [],
   "source": [
    "import cv2\n",
    "img=cv2.imread(\"path\")"
   ]
  },
  {
   "cell_type": "code",
   "execution_count": null,
   "metadata": {},
   "outputs": [],
   "source": [
    "import requests\n",
    "base_url=\"tele_API\"\n",
    "\n",
    "my_file=open(\"path_to_picture\",'rb')\n",
    "\n",
    "parameters={\n",
    "    \"chat_id\":\"chat_id\",\n",
    "    \"caption\":\"photo\"\n",
    "}\n",
    "\n",
    "files={\n",
    "    \"photo\":my_file\n",
    "}\n",
    "\n",
    "resp=requests.post(base_url, data=parameters, files=my_file)\n",
    "print(resp.text)"
   ]
  },
  {
   "cell_type": "code",
   "execution_count": null,
   "metadata": {},
   "outputs": [],
   "source": []
  }
 ],
 "metadata": {
  "kernelspec": {
   "display_name": "Python 3.10.7 64-bit",
   "language": "python",
   "name": "python3"
  },
  "language_info": {
   "codemirror_mode": {
    "name": "ipython",
    "version": 3
   },
   "file_extension": ".py",
   "mimetype": "text/x-python",
   "name": "python",
   "nbconvert_exporter": "python",
   "pygments_lexer": "ipython3",
   "version": "3.10.7"
  },
  "orig_nbformat": 4,
  "vscode": {
   "interpreter": {
    "hash": "a9cff5a362bc38ef45d817ae74b1af54d6a076e3d773891282bce078b815ba34"
   }
  }
 },
 "nbformat": 4,
 "nbformat_minor": 2
}
